{
 "cells": [
  {
   "cell_type": "code",
   "execution_count": 1,
   "id": "5b20a67e-6026-4010-a805-0e0b5dbc0c36",
   "metadata": {},
   "outputs": [],
   "source": [
    "import pandas as pd\n",
    "import numpy as np\n"
   ]
  },
  {
   "cell_type": "code",
   "execution_count": 3,
   "id": "a0522678-88c1-4cd8-91c6-ef3a0c4d02be",
   "metadata": {},
   "outputs": [],
   "source": [
    "# Load the dirty dataset\n",
    "file_path = \"indian_election_dataset.csv\"\n",
    "df = pd.read_csv(file_path)"
   ]
  },
  {
   "cell_type": "code",
   "execution_count": 4,
   "id": "6ffbe33b-6d21-47e9-9291-d018bdb295d0",
   "metadata": {},
   "outputs": [
    {
     "name": "stdout",
     "output_type": "stream",
     "text": [
      "Missing values before:\n",
      "st_name        3587\n",
      "year           3686\n",
      "pc_no          3590\n",
      "pc_name        3538\n",
      "pc_type       11366\n",
      "cand_name      3613\n",
      "cand_sex       4194\n",
      "partyname      3576\n",
      "partyabbre     3563\n",
      "totvotpoll     3573\n",
      "electors       3744\n",
      "dtype: int64\n",
      "Missing values after:\n",
      "st_name       0\n",
      "year          0\n",
      "pc_no         0\n",
      "pc_name       0\n",
      "pc_type       0\n",
      "cand_name     0\n",
      "cand_sex      0\n",
      "partyname     0\n",
      "partyabbre    0\n",
      "totvotpoll    0\n",
      "electors      0\n",
      "dtype: int64\n"
     ]
    }
   ],
   "source": [
    "# 1. Handling NULL Values\n",
    "print(\"Missing values before:\")\n",
    "print(df.isnull().sum())\n",
    "df.fillna({'pc_type': 'Unknown', 'cand_sex': 'Unknown'}, inplace=True)\n",
    "df.dropna(inplace=True)  # Dropping remaining rows with NULLs\n",
    "print(\"Missing values after:\")\n",
    "print(df.isnull().sum())"
   ]
  },
  {
   "cell_type": "code",
   "execution_count": 5,
   "id": "b4433658-ff4e-4ebc-b0fe-fb8251213264",
   "metadata": {},
   "outputs": [
    {
     "name": "stdout",
     "output_type": "stream",
     "text": [
      "Duplicates before: 70\n",
      "Duplicates after: 0\n"
     ]
    }
   ],
   "source": [
    "# 2. Removing Duplicates\n",
    "print(\"Duplicates before:\", df.duplicated().sum())\n",
    "df.drop_duplicates(inplace=True)\n",
    "print(\"Duplicates after:\", df.duplicated().sum())\n"
   ]
  },
  {
   "cell_type": "code",
   "execution_count": 6,
   "id": "057eb456-d1b6-48e0-b9c9-8cfeeab4ceca",
   "metadata": {},
   "outputs": [],
   "source": [
    "# 3. Standardizing Data Formats\n",
    "df['partyname'] = df['partyname'].str.replace(\"_\", \" \").str.title()\n",
    "df['pc_name'] = df['pc_name'].str.title()\n",
    "df['st_name'] = df['st_name'].str.title()"
   ]
  },
  {
   "cell_type": "code",
   "execution_count": 7,
   "id": "86a1cb6d-9c3f-4ad6-a661-3218fb431e4e",
   "metadata": {},
   "outputs": [],
   "source": [
    "# 4. Correcting Inconsistent Data\n",
    "df['cand_sex'] = df['cand_sex'].replace({\n",
    "    'M': 'Male', 'MALE': 'Male', 'F': 'Female', 'FEMALE': 'Female'\n",
    "})"
   ]
  },
  {
   "cell_type": "code",
   "execution_count": 8,
   "id": "1ea5e950-ee4e-4ae5-a7f7-d8efa3495318",
   "metadata": {},
   "outputs": [],
   "source": [
    "# 5. Data Type Conversion\n",
    "df['totvotpoll'] = pd.to_numeric(df['totvotpoll'], errors='coerce')\n",
    "df['electors'] = pd.to_numeric(df['electors'], errors='coerce')"
   ]
  },
  {
   "cell_type": "code",
   "execution_count": 9,
   "id": "a97edd18-22c5-41aa-970d-8ef4add2d906",
   "metadata": {},
   "outputs": [
    {
     "name": "stdout",
     "output_type": "stream",
     "text": [
      "Final Data Types:\n",
      "st_name        object\n",
      "year          float64\n",
      "pc_no         float64\n",
      "pc_name        object\n",
      "pc_type        object\n",
      "cand_name      object\n",
      "cand_sex       object\n",
      "partyname      object\n",
      "partyabbre     object\n",
      "totvotpoll    float64\n",
      "electors      float64\n",
      "dtype: object\n",
      "Cleaned Dataset Preview:\n",
      "                      st_name    year  pc_no                    pc_name  \\\n",
      "1   Andaman & Nicobar Islands  1977.0    1.0  Andaman & Nicobar Islands   \n",
      "4   Andaman & Nicobar Islands  1980.0    1.0  Andaman & Nicobar Islands   \n",
      "6   Andaman & Nicobar Islands  1980.0    1.0  Andaman & Nicobar Islands   \n",
      "7   Andaman & Nicobar Islands  1980.0    1.0  Andaman & Nicobar Islands   \n",
      "10  Andaman & Nicobar Islands  1980.0    1.0  Andaman & Nicobar Islands   \n",
      "\n",
      "   pc_type           cand_name cand_sex                           partyname  \\\n",
      "1      GEN   Manoranjan Bhakta     Male            Indian National Congress   \n",
      "4      GEN         Kannu Chemy     Male                        Independents   \n",
      "6      GEN  Rajender Lall Saha  Unknown               Janta Party (Secular)   \n",
      "7      GEN         Karpu Swamy     Male                        Independents   \n",
      "10     GEN       P.K.S. Prasad     Male  Communist Party Of India (Marxist)   \n",
      "\n",
      "   partyabbre  totvotpoll  electors  \n",
      "1         INC     35400.0   85308.0  \n",
      "4         IND       405.0   96084.0  \n",
      "6      JNP(S)       717.0   96084.0  \n",
      "7         IND      1123.0   96084.0  \n",
      "10        CPM     16014.0   96084.0  \n"
     ]
    }
   ],
   "source": [
    "# Final Check\n",
    "print(\"Final Data Types:\")\n",
    "print(df.dtypes)\n",
    "print(\"Cleaned Dataset Preview:\")\n",
    "print(df.head())\n"
   ]
  },
  {
   "cell_type": "code",
   "execution_count": 10,
   "id": "9f97dfe5-fb42-4265-93d1-36da5f9d996d",
   "metadata": {},
   "outputs": [],
   "source": [
    "# Save the cleaned dataset\n",
    "cleaned_file_path = \"indian_election_cleaned.csv\"\n",
    "df.to_csv(cleaned_file_path, index=False)"
   ]
  },
  {
   "cell_type": "code",
   "execution_count": null,
   "id": "d43ef9d8-493b-4180-8be5-399ec9bcaf48",
   "metadata": {},
   "outputs": [],
   "source": []
  }
 ],
 "metadata": {
  "kernelspec": {
   "display_name": "Python 3 (ipykernel)",
   "language": "python",
   "name": "python3"
  },
  "language_info": {
   "codemirror_mode": {
    "name": "ipython",
    "version": 3
   },
   "file_extension": ".py",
   "mimetype": "text/x-python",
   "name": "python",
   "nbconvert_exporter": "python",
   "pygments_lexer": "ipython3",
   "version": "3.11.8"
  }
 },
 "nbformat": 4,
 "nbformat_minor": 5
}
